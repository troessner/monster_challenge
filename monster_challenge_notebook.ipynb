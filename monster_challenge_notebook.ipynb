{
 "cells": [
  {
   "cell_type": "code",
   "execution_count": 7,
   "metadata": {
    "collapsed": true
   },
   "outputs": [],
   "source": [
    "!pip install keras numpy sklearn > /dev/null 2>&1"
   ]
  },
  {
   "cell_type": "code",
   "execution_count": 7,
   "metadata": {},
   "outputs": [
    {
     "name": "stdout",
     "output_type": "stream",
     "text": [
      "Epoch 1/20\n",
      "371/371 [==============================] - 0s - loss: 1.0966 - acc: 0.4690     \n",
      "Epoch 2/20\n",
      "371/371 [==============================] - 0s - loss: 1.0916 - acc: 0.5148     \n",
      "Epoch 3/20\n",
      "371/371 [==============================] - 0s - loss: 1.0847 - acc: 0.5580     \n",
      "Epoch 4/20\n",
      "371/371 [==============================] - 0s - loss: 1.0780 - acc: 0.5472     \n",
      "Epoch 5/20\n",
      "371/371 [==============================] - 0s - loss: 1.0727 - acc: 0.5067     \n",
      "Epoch 6/20\n",
      "371/371 [==============================] - 0s - loss: 1.0686 - acc: 0.4501     \n",
      "Epoch 7/20\n",
      "371/371 [==============================] - 0s - loss: 1.0650 - acc: 0.4151     \n",
      "Epoch 8/20\n",
      "371/371 [==============================] - 0s - loss: 1.0625 - acc: 0.4070     \n",
      "Epoch 9/20\n",
      "371/371 [==============================] - 0s - loss: 1.0599 - acc: 0.4016     \n",
      "Epoch 10/20\n",
      "371/371 [==============================] - 0s - loss: 1.0567 - acc: 0.3989     \n",
      "Epoch 11/20\n",
      "371/371 [==============================] - 0s - loss: 1.0535 - acc: 0.4070     \n",
      "Epoch 12/20\n",
      "371/371 [==============================] - 0s - loss: 1.0499 - acc: 0.4097     \n",
      "Epoch 13/20\n",
      "371/371 [==============================] - 0s - loss: 1.0462 - acc: 0.4205     \n",
      "Epoch 14/20\n",
      "371/371 [==============================] - 0s - loss: 1.0428 - acc: 0.4286     \n",
      "Epoch 15/20\n",
      "371/371 [==============================] - 0s - loss: 1.0396 - acc: 0.4367     \n",
      "Epoch 16/20\n",
      "371/371 [==============================] - 0s - loss: 1.0365 - acc: 0.4528     \n",
      "Epoch 17/20\n",
      "371/371 [==============================] - 0s - loss: 1.0335 - acc: 0.4771     \n",
      "Epoch 18/20\n",
      "371/371 [==============================] - 0s - loss: 1.0301 - acc: 0.4960     \n",
      "Epoch 19/20\n",
      "371/371 [==============================] - 0s - loss: 1.0267 - acc: 0.5094     \n",
      "Epoch 20/20\n",
      "371/371 [==============================] - 0s - loss: 1.0233 - acc: 0.5202     \n"
     ]
    },
    {
     "data": {
      "text/plain": [
       "<keras.callbacks.History at 0x118d1c8d0>"
      ]
     },
     "execution_count": 7,
     "metadata": {},
     "output_type": "execute_result"
    }
   ],
   "source": [
    "import keras\n",
    "from keras.models import Sequential\n",
    "from keras.layers import Dense, Dropout, Activation\n",
    "from keras.optimizers import SGD\n",
    "import numpy as np\n",
    "from sklearn.preprocessing import LabelEncoder\n",
    "\n",
    "def load_features(file_name):\n",
    "  return np.genfromtxt('data/' + file_name, skip_header=1, delimiter=\",\", usecols=(1,2,3,4))\n",
    "\n",
    "def load_targets(file_name):\n",
    "  labels = np.genfromtxt('data/' + file_name, skip_header=1, delimiter=\",\", usecols=6,  dtype=str)\n",
    "  encoder = LabelEncoder()\n",
    "  encoder.fit(labels)\n",
    "  labels_as_numbers = encoder.transform(labels)\n",
    "  return keras.utils.to_categorical(labels_as_numbers)\n",
    "\n",
    "# TODO: Add 'color' as feature\n",
    "FEATURES = ['bone_length', 'rotting_flesh', 'hair_length', 'has_soul']\n",
    "INPUT_DIM = len(FEATURES)\n",
    "TARGET_VARIABLE = ['type']\n",
    "VALID_TYPES = ['Ghost', 'Goblin', 'Ghoul']\n",
    "OUTPUT_DIM = len(VALID_TYPES)\n",
    "\n",
    "# The csv files look like this:\n",
    "#\n",
    "# id  bone_length  rotting_flesh  hair_length  has_soul  color    type\n",
    "# 0     0.354512       0.350839     0.465761  0.781142  clear   Ghoul\n",
    "# 1     0.575560       0.425868     0.531401  0.439899  green  Goblin\n",
    "# 2     0.467875       0.354330     0.811616  0.791225  black   Ghoul\n",
    "\n",
    "x_train = load_features('train.csv')\n",
    "y_train = load_targets('train.csv')\n",
    "x_test = load_features('test.csv')\n",
    "# y_test = np.genfromtxt('data/test.csv', skip_header=1, delimiter=\",\", usecols=6)\n",
    "\n",
    "model = Sequential()\n",
    "\n",
    "# Basic model inspired from:\n",
    "# https://keras.io/getting-started/sequential-model-guide/\n",
    "# section: \"Multilayer Perceptron (MLP) for multi-class softmax classification\"\n",
    "#\n",
    "# Play around with:\n",
    "# * dropout\n",
    "# * learning algorithm and its parameters\n",
    "# * activation\n",
    "# * learning rate\n",
    "model.add(Dense(10, activation='relu', input_dim=INPUT_DIM))\n",
    "model.add(Dense(OUTPUT_DIM, activation='softmax'))\n",
    "\n",
    "sgd = SGD(lr=0.01, decay=1e-6, momentum=0.9, nesterov=True)\n",
    "model.compile(loss='categorical_crossentropy',\n",
    "              optimizer=sgd,\n",
    "              metrics=['accuracy'])\n",
    "\n",
    "model.fit(x_train, y_train,\n",
    "          epochs=20,\n",
    "          batch_size=128)\n",
    "#score = model.evaluate(x_test, y_test, batch_size=128)\n"
   ]
  },
  {
   "cell_type": "code",
   "execution_count": null,
   "metadata": {
    "collapsed": true
   },
   "outputs": [],
   "source": []
  }
 ],
 "metadata": {
  "kernelspec": {
   "display_name": "Python 3",
   "language": "python",
   "name": "python3"
  },
  "language_info": {
   "codemirror_mode": {
    "name": "ipython",
    "version": 3
   },
   "file_extension": ".py",
   "mimetype": "text/x-python",
   "name": "python",
   "nbconvert_exporter": "python",
   "pygments_lexer": "ipython3",
   "version": "3.5.2"
  }
 },
 "nbformat": 4,
 "nbformat_minor": 2
}
