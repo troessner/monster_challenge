{
 "cells": [
  {
   "cell_type": "code",
   "execution_count": 14,
   "metadata": {
    "collapsed": true
   },
   "outputs": [],
   "source": [
    "### Install dependencies ###\n",
    "!pip install keras numpy sklearn > /dev/null 2>&1"
   ]
  },
  {
   "cell_type": "markdown",
   "metadata": {},
   "source": [
    "### Imports\n",
    "\n",
    "We're going to be using the following libraries\n",
    "\n",
    "* `keras` for building the ANN\n",
    "* `numpy` for array handling\n",
    "* `sklearn` for labeling\n",
    "* `typing` for static typing"
   ]
  },
  {
   "cell_type": "code",
   "execution_count": 15,
   "metadata": {},
   "outputs": [],
   "source": [
    "import keras.utils\n",
    "from keras.models import Sequential\n",
    "from keras.layers import Dense, Dropout, Activation\n",
    "from keras.optimizers import SGD\n",
    "import numpy as numpy\n",
    "from sklearn.preprocessing import LabelEncoder\n",
    "from typing import List"
   ]
  },
  {
   "cell_type": "markdown",
   "metadata": {},
   "source": [
    ""
   ]
  },
  {
   "cell_type": "code",
   "execution_count": 16,
   "metadata": {
    "collapsed": true
   },
   "outputs": [],
   "source": [
    "\n",
    "def labels_to_numbers(labels: List[str]) -> List[int]:\n",
    "    \"\"\"\n",
    "    Transforms:\n",
    "      ['Ghoul', 'Goblin', 'Ghoul', 'Ghoul', 'Ghost',\n",
    "    to:\n",
    "      [1, 2, 1, 1, 0,\n",
    "    \"\"\"\n",
    "    return LabelEncoder().fit(labels).transform(labels)\n",
    "\n",
    "\n",
    "def load_features(file_name: str) -> List:\n",
    "    \"\"\"\n",
    "    Loads the features we are using for inferring the target.\n",
    "    Those features are: bone_length  rotting_flesh  hair_length  has_soul color\n",
    "\n",
    "    The csv files look like this:\n",
    "\n",
    "    id  bone_length  rotting_flesh  hair_length  has_soul  color    type\n",
    "    0     0.354512       0.350839     0.465761  0.781142  clear   Ghoul\n",
    "    1     0.575560       0.425868     0.531401  0.439899  green  Goblin\n",
    "    2     0.467875       0.354330     0.811616  0.791225  black   Ghoul\n",
    "    \"\"\"\n",
    "    path = 'data/' + file_name\n",
    "    numeric_features = numpy.genfromtxt(path,\n",
    "                                        skip_header=1,\n",
    "                                        delimiter=\",\",\n",
    "                                        usecols=(1, 2, 3, 4))\n",
    "    colors = numpy.genfromtxt(path,\n",
    "                              skip_header=1,\n",
    "                              delimiter=\",\",\n",
    "                              usecols=5,\n",
    "                              dtype=str)\n",
    "    accumulator = []\n",
    "    for row, color_as_number in zip(numeric_features, labels_to_numbers(colors)):\n",
    "        accumulator.extend([numpy.append(row, color_as_number)])\n",
    "    return numpy.asarray(accumulator)\n",
    "\n",
    "def load_targets(file_name: str) -> List:\n",
    "  \"\"\"\n",
    "  Loads the labels we are using for inferring the target ('Ghost', 'Goblin', 'Ghoul')\n",
    "  and transforms them into a one-hot vector.\n",
    "  So basically this:\n",
    "    ['Ghoul', 'Goblin', 'Ghoul', 'Ghoul', 'Ghost', .....\n",
    "  becomes:\n",
    "    [[ 0.,  1.,  0.],\n",
    "     [ 0.,  0.,  1.],\n",
    "     [ 0.,  1.,  0.],\n",
    "  \"\"\"\n",
    "  labels = numpy.genfromtxt('data/' + file_name,\n",
    "                            skip_header=1,\n",
    "                            delimiter=\",\",\n",
    "                            usecols=6,\n",
    "                            dtype=str)\n",
    "  return keras.utils.to_categorical(labels_to_numbers(labels))"
   ]
  },
  {
   "cell_type": "markdown",
   "metadata": {},
   "source": [
    "### Load the data ###\n",
    "\n",
    "We have 371 records for training but no test data.\n",
    "So let's just use the first 350 records for training and the last 71 for"
   ]
  },
  {
   "cell_type": "code",
   "execution_count": 17,
   "metadata": {
    "collapsed": true
   },
   "outputs": [],
   "source": [
    "SLICE_AT = 350\n",
    "\n",
    "features = load_features('train.csv')\n",
    "targets = load_targets('train.csv')\n",
    "x_train = features[0:SLICE_AT]\n",
    "y_train = targets[0:SLICE_AT]\n",
    "x_test = features[SLICE_AT:]\n",
    "y_test = targets[SLICE_AT:]\n",
    "x_for_prediction = load_features('test.csv')\n",
    "y_for_prediction = 'TODO'"
   ]
  },
  {
   "cell_type": "markdown",
   "metadata": {},
   "source": [
    "### Configurations\n",
    "\n",
    "Let's generate all possible \n",
    "\n",
    "*"
   ]
  },
  {
   "cell_type": "code",
   "execution_count": 18,
   "metadata": {},
   "outputs": [
    {
     "name": "stdout",
     "output_type": "stream",
     "text": [
      "Epoch 1/20\n\r128/300 [===========>..................] - ETA: 0s - loss: 1.5927 - acc: 0.2422"
     ]
    },
    {
     "name": "stdout",
     "output_type": "stream",
     "text": [
      "\b\b\b\b\b\b\b\b\b\b\b\b\b\b\b\b\b\b\b\b\b\b\b\b\b\b\b\b\b\b\b\b\b\b\b\b\b\b\b\b\b\b\b\b\b\b\b\b\b\b\b\b\b\b\b\b\b\b\b\b\b\b\b\b\b\b\b\b\b\b\b\b\b\b\b\b\b\b\b\r300/300 [==============================] - 0s - loss: 1.5330 - acc: 0.2733     "
     ]
    },
    {
     "name": "stdout",
     "output_type": "stream",
     "text": [
      "\nEpoch 2/20\n"
     ]
    },
    {
     "name": "stdout",
     "output_type": "stream",
     "text": [
      "\r128/300 [===========>..................] - ETA: 0s - loss: 1.4493 - acc: 0.2891"
     ]
    },
    {
     "name": "stdout",
     "output_type": "stream",
     "text": [
      "\b\b\b\b\b\b\b\b\b\b\b\b\b\b\b\b\b\b\b\b\b\b\b\b\b\b\b\b\b\b\b\b\b\b\b\b\b\b\b\b\b\b\b\b\b\b\b\b\b\b\b\b\b\b\b\b\b\b\b\b\b\b\b\b\b\b\b\b\b\b\b\b\b\b\b\b\b\b\b\r300/300 [==============================] - 0s - loss: 1.3444 - acc: 0.3233     "
     ]
    },
    {
     "name": "stdout",
     "output_type": "stream",
     "text": [
      "\nEpoch 3/20\n\r128/300 [===========>..................] - ETA: 0s - loss: 1.2226 - acc: 0.3438"
     ]
    },
    {
     "name": "stdout",
     "output_type": "stream",
     "text": [
      "\b\b\b\b\b\b\b\b\b\b\b\b\b\b\b\b\b\b\b\b\b\b\b\b\b\b\b\b\b\b\b\b\b\b\b\b\b\b\b\b\b\b\b\b\b\b\b\b\b\b\b\b\b\b\b\b\b\b\b\b\b\b\b\b\b\b\b\b\b\b\b\b\b\b\b\b\b\b\b\r300/300 [==============================] - 0s - loss: 1.1889 - acc: 0.3400     "
     ]
    },
    {
     "name": "stdout",
     "output_type": "stream",
     "text": [
      "\nEpoch 4/20\n\r128/300 [===========>..................] - ETA: 0s - loss: 1.1539 - acc: 0.3516"
     ]
    },
    {
     "name": "stdout",
     "output_type": "stream",
     "text": [
      "\b\b\b\b\b\b\b\b\b\b\b\b\b\b\b\b\b\b\b\b\b\b\b\b\b\b\b\b\b\b\b\b\b\b\b\b\b\b\b\b\b\b\b\b\b\b\b\b\b\b\b\b\b\b\b\b\b\b\b\b\b\b\b\b\b\b\b\b\b\b\b\b\b\b\b\b\b\b\b\r300/300 [==============================] - 0s - loss: 1.1487 - acc: 0.3333     "
     ]
    },
    {
     "name": "stdout",
     "output_type": "stream",
     "text": [
      "\nEpoch 5/20\n\r128/300 [===========>..................] - ETA: 0s - loss: 1.1310 - acc: 0.3516"
     ]
    },
    {
     "name": "stdout",
     "output_type": "stream",
     "text": [
      "\b\b\b\b\b\b\b\b\b\b\b\b\b\b\b\b\b\b\b\b\b\b\b\b\b\b\b\b\b\b\b\b\b\b\b\b\b\b\b\b\b\b\b\b\b\b\b\b\b\b\b\b\b\b\b\b\b\b\b\b\b\b\b\b\b\b\b\b\b\b\b\b\b\b\b\b\b\b\b"
     ]
    },
    {
     "name": "stdout",
     "output_type": "stream",
     "text": [
      "\r300/300 [==============================] - 0s - loss: 1.1497 - acc: 0.3333     "
     ]
    },
    {
     "name": "stdout",
     "output_type": "stream",
     "text": [
      "\nEpoch 6/20\n"
     ]
    },
    {
     "name": "stdout",
     "output_type": "stream",
     "text": [
      "\r128/300 [===========>..................] - ETA: 0s - loss: 1.1300 - acc: 0.3750"
     ]
    },
    {
     "name": "stdout",
     "output_type": "stream",
     "text": [
      "\b\b\b\b\b\b\b\b\b\b\b\b\b\b\b\b\b\b\b\b\b\b\b\b\b\b\b\b\b\b\b\b\b\b\b\b\b\b\b\b\b\b\b\b\b\b\b\b\b\b\b\b\b\b\b\b\b\b\b\b\b\b\b\b\b\b\b\b\b\b\b\b\b\b\b\b\b\b\b\r300/300 [==============================] - 0s - loss: 1.1430 - acc: 0.3333     "
     ]
    },
    {
     "name": "stdout",
     "output_type": "stream",
     "text": [
      "\nEpoch 7/20\n\r128/300 [===========>..................] - ETA: 0s - loss: 1.1155 - acc: 0.3359"
     ]
    },
    {
     "name": "stdout",
     "output_type": "stream",
     "text": [
      "\b\b\b\b\b\b\b\b\b\b\b\b\b\b\b\b\b\b\b\b\b\b\b\b\b\b\b\b\b\b\b\b\b\b\b\b\b\b\b\b\b\b\b\b\b\b\b\b\b\b\b\b\b\b\b\b\b\b\b\b\b\b\b\b\b\b\b\b\b\b\b\b\b\b\b\b\b\b\b\r300/300 [==============================] - 0s - loss: 1.1255 - acc: 0.3233     "
     ]
    },
    {
     "name": "stdout",
     "output_type": "stream",
     "text": [
      "\nEpoch 8/20\n\r128/300 [===========>..................] - ETA: 0s - loss: 1.1334 - acc: 0.1953"
     ]
    },
    {
     "name": "stdout",
     "output_type": "stream",
     "text": [
      "\b\b\b\b\b\b\b\b\b\b\b\b\b\b\b\b\b\b\b\b\b\b\b\b\b\b\b\b\b\b\b\b\b\b\b\b\b\b\b\b\b\b\b\b\b\b\b\b\b\b\b\b\b\b\b\b\b\b\b\b\b\b\b\b\b\b\b\b\b\b\b\b\b\b\b\b\b\b\b\r300/300 [==============================] - 0s - loss: 1.1079 - acc: 0.2833     "
     ]
    },
    {
     "name": "stdout",
     "output_type": "stream",
     "text": [
      "\nEpoch 9/20\n\r128/300 [===========>..................] - ETA: 0s - loss: 1.0964 - acc: 0.3672"
     ]
    },
    {
     "name": "stdout",
     "output_type": "stream",
     "text": [
      "\b\b\b\b\b\b\b\b\b\b\b\b\b\b\b\b\b\b\b\b\b\b\b\b\b\b\b\b\b\b\b\b\b\b\b\b\b\b\b\b\b\b\b\b\b\b\b\b\b\b\b\b\b\b\b\b\b\b\b\b\b\b\b\b\b\b\b\b\b\b\b\b\b\b\b\b\b\b\b\r300/300 [==============================] - 0s - loss: 1.1014 - acc: 0.3367     "
     ]
    },
    {
     "name": "stdout",
     "output_type": "stream",
     "text": [
      "\nEpoch 10/20\n\r128/300 [===========>..................] - ETA: 0s - loss: 1.0971 - acc: 0.3438"
     ]
    },
    {
     "name": "stdout",
     "output_type": "stream",
     "text": [
      "\b\b\b\b\b\b\b\b\b\b\b\b\b\b\b\b\b\b\b\b\b\b\b\b\b\b\b\b\b\b\b\b\b\b\b\b\b\b\b\b\b\b\b\b\b\b\b\b\b\b\b\b\b\b\b\b\b\b\b\b\b\b\b\b\b\b\b\b\b\b\b\b\b\b\b\b\b\b\b\r300/300 [==============================] - 0s - loss: 1.0967 - acc: 0.3233     "
     ]
    },
    {
     "name": "stdout",
     "output_type": "stream",
     "text": [
      "\nEpoch 11/20\n\r128/300 [===========>..................] - ETA: 0s - loss: 1.1028 - acc: 0.2656"
     ]
    },
    {
     "name": "stdout",
     "output_type": "stream",
     "text": [
      "\b\b\b\b\b\b\b\b\b\b\b\b\b\b\b\b\b\b\b\b\b\b\b\b\b\b\b\b\b\b\b\b\b\b\b\b\b\b\b\b\b\b\b\b\b\b\b\b\b\b\b\b\b\b\b\b\b\b\b\b\b\b\b\b\b\b\b\b\b\b\b\b\b\b\b\b\b\b\b\r300/300 [==============================] - 0s - loss: 1.0946 - acc: 0.2900     "
     ]
    },
    {
     "name": "stdout",
     "output_type": "stream",
     "text": [
      "\nEpoch 12/20\n"
     ]
    },
    {
     "name": "stdout",
     "output_type": "stream",
     "text": [
      "\r128/300 [===========>..................] - ETA: 0s - loss: 1.0927 - acc: 0.3438"
     ]
    },
    {
     "name": "stdout",
     "output_type": "stream",
     "text": [
      "\b\b\b\b\b\b\b\b\b\b\b\b\b\b\b\b\b\b\b\b\b\b\b\b\b\b\b\b\b\b\b\b\b\b\b\b\b\b\b\b\b\b\b\b\b\b\b\b\b\b\b\b\b\b\b\b\b\b\b\b\b\b\b\b\b\b\b\b\b\b\b\b\b\b\b\b\b\b\b"
     ]
    },
    {
     "name": "stdout",
     "output_type": "stream",
     "text": [
      "\r300/300 [==============================] - 0s - loss: 1.0903 - acc: 0.3267     "
     ]
    },
    {
     "name": "stdout",
     "output_type": "stream",
     "text": [
      "\nEpoch 13/20\n\r128/300 [===========>..................] - ETA: 0s - loss: 1.0911 - acc: 0.3047"
     ]
    },
    {
     "name": "stdout",
     "output_type": "stream",
     "text": [
      "\b\b\b\b\b\b\b\b\b\b\b\b\b\b\b\b\b\b\b\b\b\b\b\b\b\b\b\b\b\b\b\b\b\b\b\b\b\b\b\b\b\b\b\b\b\b\b\b\b\b\b\b\b\b\b\b\b\b\b\b\b\b\b\b\b\b\b\b\b\b\b\b\b\b\b\b\b\b\b\r300/300 [==============================] - 0s - loss: 1.0886 - acc: 0.3733     "
     ]
    },
    {
     "name": "stdout",
     "output_type": "stream",
     "text": [
      "\n"
     ]
    },
    {
     "name": "stdout",
     "output_type": "stream",
     "text": [
      "Epoch 14/20\n"
     ]
    },
    {
     "name": "stdout",
     "output_type": "stream",
     "text": [
      "\r128/300 [===========>..................] - ETA: 0s - loss: 1.0893 - acc: 0.3750"
     ]
    },
    {
     "name": "stdout",
     "output_type": "stream",
     "text": [
      "\b\b\b\b\b\b\b\b\b\b\b\b\b\b\b\b\b\b\b\b\b\b\b\b\b\b\b\b\b\b\b\b\b\b\b\b\b\b\b\b\b\b\b\b\b\b\b\b\b\b\b\b\b\b\b\b\b\b\b\b\b\b\b\b\b\b\b\b\b\b\b\b\b\b\b\b\b\b\b\r300/300 [==============================] - 0s - loss: 1.0860 - acc: 0.4167     "
     ]
    },
    {
     "name": "stdout",
     "output_type": "stream",
     "text": [
      "\nEpoch 15/20\n\r128/300 [===========>..................] - ETA: 0s - loss: 1.0829 - acc: 0.4297"
     ]
    },
    {
     "name": "stdout",
     "output_type": "stream",
     "text": [
      "\b\b\b\b\b\b\b\b\b\b\b\b\b\b\b\b\b\b\b\b\b\b\b\b\b\b\b\b\b\b\b\b\b\b\b\b\b\b\b\b\b\b\b\b\b\b\b\b\b\b\b\b\b\b\b\b\b\b\b\b\b\b\b\b\b\b\b\b\b\b\b\b\b\b\b\b\b\b\b"
     ]
    },
    {
     "name": "stdout",
     "output_type": "stream",
     "text": [
      "\r300/300 [==============================] - 0s - loss: 1.0842 - acc: 0.4300     "
     ]
    },
    {
     "name": "stdout",
     "output_type": "stream",
     "text": [
      "\nEpoch 16/20\n\r128/300 [===========>..................] - ETA: 0s - loss: 1.0774 - acc: 0.5078"
     ]
    },
    {
     "name": "stdout",
     "output_type": "stream",
     "text": [
      "\b\b\b\b\b\b\b\b\b\b\b\b\b\b\b\b\b\b\b\b\b\b\b\b\b\b\b\b\b\b\b\b\b\b\b\b\b\b\b\b\b\b\b\b\b\b\b\b\b\b\b\b\b\b\b\b\b\b\b\b\b\b\b\b\b\b\b\b\b\b\b\b\b\b\b\b\b\b\b"
     ]
    },
    {
     "name": "stdout",
     "output_type": "stream",
     "text": [
      "\r300/300 [==============================] - 0s - loss: 1.0820 - acc: 0.4600     "
     ]
    },
    {
     "name": "stdout",
     "output_type": "stream",
     "text": [
      "\nEpoch 17/20\n\r128/300 [===========>..................] - ETA: 0s - loss: 1.0788 - acc: 0.4688"
     ]
    },
    {
     "name": "stdout",
     "output_type": "stream",
     "text": [
      "\b\b\b\b\b\b\b\b\b\b\b\b\b\b\b\b\b\b\b\b\b\b\b\b\b\b\b\b\b\b\b\b\b\b\b\b\b\b\b\b\b\b\b\b\b\b\b\b\b\b\b\b\b\b\b\b\b\b\b\b\b\b\b\b\b\b\b\b\b\b\b\b\b\b\b\b\b\b\b\r300/300 [==============================] - 0s - loss: 1.0798 - acc: 0.4433     "
     ]
    },
    {
     "name": "stdout",
     "output_type": "stream",
     "text": [
      "\nEpoch 18/20\n"
     ]
    },
    {
     "name": "stdout",
     "output_type": "stream",
     "text": [
      "\r128/300 [===========>..................] - ETA: 0s - loss: 1.0764 - acc: 0.4766"
     ]
    },
    {
     "name": "stdout",
     "output_type": "stream",
     "text": [
      "\b\b\b\b\b\b\b\b\b\b\b\b\b\b\b\b\b\b\b\b\b\b\b\b\b\b\b\b\b\b\b\b\b\b\b\b\b\b\b\b\b\b\b\b\b\b\b\b\b\b\b\b\b\b\b\b\b\b\b\b\b\b\b\b\b\b\b\b\b\b\b\b\b\b\b\b\b\b\b\r300/300 [==============================] - 0s - loss: 1.0782 - acc: 0.4500     "
     ]
    },
    {
     "name": "stdout",
     "output_type": "stream",
     "text": [
      "\n"
     ]
    },
    {
     "name": "stdout",
     "output_type": "stream",
     "text": [
      "Epoch 19/20\n\r128/300 [===========>..................] - ETA: 0s - loss: 1.0859 - acc: 0.4141"
     ]
    },
    {
     "name": "stdout",
     "output_type": "stream",
     "text": [
      "\b\b\b\b\b\b\b\b\b\b\b\b\b\b\b\b\b\b\b\b\b\b\b\b\b\b\b\b\b\b\b\b\b\b\b\b\b\b\b\b\b\b\b\b\b\b\b\b\b\b\b\b\b\b\b\b\b\b\b\b\b\b\b\b\b\b\b\b\b\b\b\b\b\b\b\b\b\b\b\r300/300 [==============================] - 0s - loss: 1.0759 - acc: 0.4367     "
     ]
    },
    {
     "name": "stdout",
     "output_type": "stream",
     "text": [
      "\nEpoch 20/20\n\r128/300 [===========>..................] - ETA: 0s - loss: 1.0743 - acc: 0.4141"
     ]
    },
    {
     "name": "stdout",
     "output_type": "stream",
     "text": [
      "\b\b\b\b\b\b\b\b\b\b\b\b\b\b\b\b\b\b\b\b\b\b\b\b\b\b\b\b\b\b\b\b\b\b\b\b\b\b\b\b\b\b\b\b\b\b\b\b\b\b\b\b\b\b\b\b\b\b\b\b\b\b\b\b\b\b\b\b\b\b\b\b\b\b\b\b\b\b\b\r300/300 [==============================] - 0s - loss: 1.0735 - acc: 0.4367     "
     ]
    },
    {
     "name": "stdout",
     "output_type": "stream",
     "text": [
      "\n"
     ]
    },
    {
     "name": "stdout",
     "output_type": "stream",
     "text": [
      "\r71/71 [==============================] - 0s"
     ]
    },
    {
     "name": "stdout",
     "output_type": "stream",
     "text": [
      "\n"
     ]
    }
   ],
   "source": [
    "# TODO mypy annotations missing\n",
    "def all_configurations(optimizers=['sgd'], max_layers=5, max_dropout=0.5):\n",
    "    configurations = []\n",
    "    for optimizer in optimizers:\n",
    "        for dropout in numpy.arange(0, max_dropout, 0.1):\n",
    "            for layers in range(max_layers):\n",
    "                configurations.append({'optimizer' : optimizer,\n",
    "                                       'dropout': dropout,\n",
    "                                       'layers' : layers})\n",
    "    return configurations\n",
    "\n",
    "print(all_configurations())"
   ]
  },
  {
   "cell_type": "code",
   "execution_count": null,
   "metadata": {},
   "outputs": [],
   "source": [
    "### Build the models ###\n",
    "\n",
    "FEATURES = ['bone_length', 'rotting_flesh', 'hair_length', 'has_soul', 'color']\n",
    "INPUT_DIM = len(FEATURES)\n",
    "VALID_TYPES = ['Ghost', 'Goblin', 'Ghoul']\n",
    "OUTPUT_DIM = len(VALID_TYPES)\n",
    "MAX_HIDDEN_LAYERS = 5\n",
    "MAX_DROPOUT = 0.5\n",
    "NR_OF_HIDDEN_NEURONS = 10\n",
    "\n",
    "LAYERS = range(MAX_HIDDEN_LAYERS)\n",
    "DROPOUTS = numpy.arange(0, MAX_DROPOUT, 0.1)\n",
    "\n",
    "sgd = SGD(lr=0.01, decay=1e-6, momentum=0.9, nesterov=True)\n",
    "\n",
    "OPTIMIZERS = [sgd, 'rmsprop', 'adagrad']\n",
    "\n",
    "scores_to_models = {}\n",
    "\n",
    "\n",
    "# Inspiration: https://keras.io/getting-started/sequential-model-guide/\n",
    "# section: \"Multilayer Perceptron (MLP) for multi-class softmax classification\"\n",
    "\n",
    "for configuration in all_configurations(optimizers=OPTIMIZERS, max_dropout=MAX_DROPOUT, max_layers=MAX_HIDDEN_LAYERS):\n",
    "  model = Sequential()\n",
    "  model.add(Dense(NR_OF_HIDDEN_NEURONS, activation='relu', input_dim=INPUT_DIM))\n",
    "  # TODO here we need to apply the configuration.\n",
    "  model.add(Dense(OUTPUT_DIM, activation='softmax'))\n",
    "\n",
    "  model.compile(loss='categorical_crossentropy',\n",
    "                           optimizer=configuration['optimizer'],\n",
    "                           metrics=['accuracy'])\n",
    "\n",
    "  model.fit(x_train, y_train, epochs=20, batch_size=128)\n",
    "  score = model.evaluate(x_test, y_test, batch_size=128)\n",
    "  scores_to_models['model'] = score"
   ]
  },
  {
   "cell_type": "code",
   "execution_count": 24,
   "metadata": {
    "collapsed": true
   },
   "outputs": [
    {
     "name": "stdout",
     "output_type": "stream",
     "text": [
      "Model no_hidden_layers:\n  Loss: 1.08207833767\n  Accuracy: 0.464788734913\n"
     ]
    }
   ],
   "source": [
    "for k, v in scores_to_models.items():\n",
    "    print(\"Model \" + k + \":\")\n",
    "    print(\"  Loss: \" + str(v[0]))\n",
    "    print(\"  Accuracy: \" + str(v[1]))"
   ]
  },
  {
   "cell_type": "code",
   "execution_count": null,
   "metadata": {},
   "outputs": [],
   "source": [
    ""
   ]
  }
 ],
 "metadata": {
  "kernelspec": {
   "display_name": "Python 3",
   "language": "python",
   "name": "python3"
  },
  "language_info": {
   "codemirror_mode": {
    "name": "ipython",
    "version": 3.0
   },
   "file_extension": ".py",
   "mimetype": "text/x-python",
   "name": "python",
   "nbconvert_exporter": "python",
   "pygments_lexer": "ipython3",
   "version": "3.5.2"
  }
 },
 "nbformat": 4,
 "nbformat_minor": 0
}