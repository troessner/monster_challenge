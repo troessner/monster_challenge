{
 "cells": [
  {
   "cell_type": "code",
   "execution_count": 18,
   "metadata": {
    "collapsed": true
   },
   "outputs": [],
   "source": [
    "### Install dependencies ###\n",
    "!pip install keras numpy sklearn > /dev/null 2>&1"
   ]
  },
  {
   "cell_type": "code",
   "execution_count": 19,
   "metadata": {},
   "outputs": [],
   "source": [
    "### Imports ###\n",
    "\n",
    "# Keras\n",
    "import keras.utils\n",
    "from keras.models import Sequential\n",
    "from keras.layers import Dense, Dropout, Activation\n",
    "from keras.optimizers import SGD\n",
    "# Processing\n",
    "import numpy as numpy\n",
    "# Used to encode labels like the monster classes to one-hot vectors\n",
    "from sklearn.preprocessing import LabelEncoder\n",
    "# Static typing ftw\n",
    "from typing import List, cast"
   ]
  },
  {
   "cell_type": "code",
   "execution_count": 20,
   "metadata": {
    "collapsed": true
   },
   "outputs": [],
   "source": [
    "### Data processing ###\n",
    "\n",
    "def labels_to_int(labels: List[str]) -> List[int]:\n",
    "  \"\"\"\n",
    "  Transforms:\n",
    "    ['Ghoul', 'Goblin', 'Ghoul', 'Ghoul', 'Ghost',\n",
    "  to:\n",
    "    [1, 2, 1, 1, 0,\n",
    "  \"\"\"\n",
    "  return LabelEncoder().fit(labels).transform(labels)\n",
    "\n",
    "def load_features(file_name: str) -> List:\n",
    "  \"\"\"\n",
    "  Loads the features we are using for inferring the target.\n",
    "  Those features are: bone_length  rotting_flesh  hair_length  has_soul\n",
    "  TODO: Add 'color'\n",
    "  \n",
    "  The csv files look like this:\n",
    "  \n",
    "  id  bone_length  rotting_flesh  hair_length  has_soul  color    type\n",
    "  0     0.354512       0.350839     0.465761  0.781142  clear   Ghoul\n",
    "  1     0.575560       0.425868     0.531401  0.439899  green  Goblin\n",
    "  2     0.467875       0.354330     0.811616  0.791225  black   Ghoul\n",
    "  \"\"\"\n",
    "  return numpy.genfromtxt('data/' + file_name,\n",
    "                          skip_header=1,\n",
    "                          delimiter=\",\",\n",
    "                          usecols=(1,2,3,4))\n",
    "\n",
    "def load_targets(file_name: str) -> List:\n",
    "  \"\"\"\n",
    "  Loads the labels we are using for inferring the target ('Ghost', 'Goblin', 'Ghoul')\n",
    "  and transforms them into a one-hot vector.\n",
    "  So basically this:\n",
    "    ['Ghoul', 'Goblin', 'Ghoul', 'Ghoul', 'Ghost', .....\n",
    "  becomes:\n",
    "    [[ 0.,  1.,  0.],\n",
    "     [ 0.,  0.,  1.],\n",
    "     [ 0.,  1.,  0.],\n",
    "  \"\"\"\n",
    "  labels = numpy.genfromtxt('data/' + file_name,\n",
    "                            skip_header=1,\n",
    "                            delimiter=\",\",\n",
    "                            usecols=6,\n",
    "                            dtype=str)\n",
    "  return keras.utils.to_categorical(labels_to_int(labels))"
   ]
  },
  {
   "cell_type": "code",
   "execution_count": 23,
   "metadata": {
    "collapsed": true
   },
   "outputs": [],
   "source": [
    "### Load the data ###\n",
    "\n",
    "# We have 371 records for training but no test data.\n",
    "# So let's just use the first 300 records for training and the last 71 for \n",
    "SLICE_AT = 300\n",
    "\n",
    "features = load_features('train.csv')\n",
    "targets = load_targets('train.csv')\n",
    "x_train = features[0:SLICE_AT]\n",
    "y_train = targets[0:SLICE_AT]\n",
    "x_test = features[SLICE_AT:]\n",
    "y_test = targets[SLICE_AT:]\n",
    "x_for_prediction = load_features('test.csv')\n",
    "y_for_prediction = 'TODO'"
   ]
  },
  {
   "cell_type": "code",
   "execution_count": 24,
   "metadata": {},
   "outputs": [
    {
     "name": "stdout",
     "output_type": "stream",
     "text": [
      "Epoch 1/20\n",
      "300/300 [==============================] - 0s - loss: 1.1064 - acc: 0.3367     \n",
      "Epoch 2/20\n",
      "300/300 [==============================] - 0s - loss: 1.1041 - acc: 0.3300     \n",
      "Epoch 3/20\n",
      "300/300 [==============================] - 0s - loss: 1.1007 - acc: 0.3333     \n",
      "Epoch 4/20\n",
      "300/300 [==============================] - 0s - loss: 1.0976 - acc: 0.3333     \n",
      "Epoch 5/20\n",
      "300/300 [==============================] - 0s - loss: 1.0937 - acc: 0.3467     \n",
      "Epoch 6/20\n",
      "300/300 [==============================] - 0s - loss: 1.0902 - acc: 0.3533     \n",
      "Epoch 7/20\n",
      "300/300 [==============================] - 0s - loss: 1.0879 - acc: 0.3800     \n",
      "Epoch 8/20\n",
      "300/300 [==============================] - 0s - loss: 1.0849 - acc: 0.4033     \n",
      "Epoch 9/20\n",
      "300/300 [==============================] - 0s - loss: 1.0823 - acc: 0.4400     \n",
      "Epoch 10/20\n",
      "300/300 [==============================] - 0s - loss: 1.0797 - acc: 0.4633     \n",
      "Epoch 11/20\n",
      "300/300 [==============================] - 0s - loss: 1.0771 - acc: 0.4933     \n",
      "Epoch 12/20\n",
      "300/300 [==============================] - 0s - loss: 1.0747 - acc: 0.5033     \n",
      "Epoch 13/20\n",
      "300/300 [==============================] - 0s - loss: 1.0719 - acc: 0.5067     \n",
      "Epoch 14/20\n",
      "300/300 [==============================] - 0s - loss: 1.0695 - acc: 0.5100     \n",
      "Epoch 15/20\n",
      "300/300 [==============================] - 0s - loss: 1.0669 - acc: 0.5167     \n",
      "Epoch 16/20\n",
      "300/300 [==============================] - 0s - loss: 1.0641 - acc: 0.5367     \n",
      "Epoch 17/20\n",
      "300/300 [==============================] - 0s - loss: 1.0615 - acc: 0.5467     \n",
      "Epoch 18/20\n",
      "300/300 [==============================] - 0s - loss: 1.0588 - acc: 0.5733     \n",
      "Epoch 19/20\n",
      "300/300 [==============================] - 0s - loss: 1.0556 - acc: 0.5767     \n",
      "Epoch 20/20\n",
      "300/300 [==============================] - 0s - loss: 1.0527 - acc: 0.5767     \n",
      "71/71 [==============================] - 0s\n",
      "Score is [1.0577793121337891, 0.49295774102210999]\n"
     ]
    }
   ],
   "source": [
    "### Build the models ###\n",
    "\n",
    "FEATURES = ['bone_length', 'rotting_flesh', 'hair_length', 'has_soul']\n",
    "INPUT_DIM = len(FEATURES)\n",
    "TARGET_VARIABLE = ['type']\n",
    "VALID_TYPES = ['Ghost', 'Goblin', 'Ghoul']\n",
    "OUTPUT_DIM = len(VALID_TYPES)\n",
    "\n",
    "model = Sequential()\n",
    "\n",
    "# Basic model inspired from:\n",
    "# https://keras.io/getting-started/sequential-model-guide/\n",
    "# section: \"Multilayer Perceptron (MLP) for multi-class softmax classification\"\n",
    "#\n",
    "# Play around with:\n",
    "# * dropout\n",
    "# * learning algorithm and its parameters\n",
    "# * activation\n",
    "# * learning rate\n",
    "model.add(Dense(10, activation='relu', input_dim=INPUT_DIM))\n",
    "model.add(Dense(OUTPUT_DIM, activation='softmax'))\n",
    "\n",
    "sgd = SGD(lr=0.01, decay=1e-6, momentum=0.9, nesterov=True)\n",
    "model.compile(loss='categorical_crossentropy',\n",
    "              optimizer=sgd,\n",
    "              metrics=['accuracy'])\n",
    "\n",
    "model.fit(x_train, y_train,\n",
    "          epochs=20,\n",
    "          batch_size=128)\n",
    "score = model.evaluate(x_test, y_test, batch_size=128)\n",
    "print(\"Score is \" + str(score))"
   ]
  },
  {
   "cell_type": "code",
   "execution_count": null,
   "metadata": {
    "collapsed": true
   },
   "outputs": [],
   "source": []
  }
 ],
 "metadata": {
  "kernelspec": {
   "display_name": "Python 3",
   "language": "python",
   "name": "python3"
  },
  "language_info": {
   "codemirror_mode": {
    "name": "ipython",
    "version": 3
   },
   "file_extension": ".py",
   "mimetype": "text/x-python",
   "name": "python",
   "nbconvert_exporter": "python",
   "pygments_lexer": "ipython3",
   "version": "3.5.2"
  }
 },
 "nbformat": 4,
 "nbformat_minor": 2
}
