{
 "cells": [
  {
   "cell_type": "code",
   "execution_count": 29,
   "metadata": {
    "collapsed": true
   },
   "outputs": [],
   "source": [
    "### Install dependencies ###\n",
    "!pip install keras numpy sklearn > /dev/null 2>&1"
   ]
  },
  {
   "cell_type": "code",
   "execution_count": 30,
   "metadata": {},
   "outputs": [],
   "source": [
    "### Imports ###\n",
    "\n",
    "# Keras\n",
    "import keras.utils\n",
    "from keras.models import Sequential\n",
    "from keras.layers import Dense, Dropout, Activation\n",
    "from keras.optimizers import SGD\n",
    "# Processing\n",
    "import numpy as numpy\n",
    "# Used to encode labels like the monster classes to one-hot vectors\n",
    "from sklearn.preprocessing import LabelEncoder\n",
    "# Static typing ftw\n",
    "from typing import List, cast"
   ]
  },
  {
   "cell_type": "code",
   "execution_count": 31,
   "metadata": {},
   "outputs": [],
   "source": [
    "### Data processing ###\n",
    "\n",
    "def labels_to_int(labels: List[str]) -> List[int]:\n",
    "  \"\"\"\n",
    "  Transforms:\n",
    "    ['Ghoul', 'Goblin', 'Ghoul', 'Ghoul', 'Ghost',\n",
    "  to:\n",
    "    [1, 2, 1, 1, 0,\n",
    "  \"\"\"\n",
    "  return LabelEncoder().fit(labels).transform(labels)\n",
    "\n",
    "def load_features(file_name: str) -> List:\n",
    "  \"\"\"\n",
    "  Loads the features we are using for inferring the target.\n",
    "  Those features are: bone_length  rotting_flesh  hair_length  has_soul\n",
    "  TODO: Add 'color'\n",
    "  \n",
    "  The csv files look like this:\n",
    "  \n",
    "  id  bone_length  rotting_flesh  hair_length  has_soul  color    type\n",
    "  0     0.354512       0.350839     0.465761  0.781142  clear   Ghoul\n",
    "  1     0.575560       0.425868     0.531401  0.439899  green  Goblin\n",
    "  2     0.467875       0.354330     0.811616  0.791225  black   Ghoul\n",
    "  \"\"\"\n",
    "  return numpy.genfromtxt('data/' + file_name,\n",
    "                          skip_header=1,\n",
    "                          delimiter=\",\",\n",
    "                          usecols=(1,2,3,4))\n",
    "\n",
    "def load_targets(file_name: str) -> List:\n",
    "  \"\"\"\n",
    "  Loads the labels we are using for inferring the target ('Ghost', 'Goblin', 'Ghoul')\n",
    "  and transforms them into a one-hot vector.\n",
    "  So basically this:\n",
    "    ['Ghoul', 'Goblin', 'Ghoul', 'Ghoul', 'Ghost', .....\n",
    "  becomes:\n",
    "    [[ 0.,  1.,  0.],\n",
    "     [ 0.,  0.,  1.],\n",
    "     [ 0.,  1.,  0.],\n",
    "  \"\"\"\n",
    "  labels = numpy.genfromtxt('data/' + file_name,\n",
    "                            skip_header=1,\n",
    "                            delimiter=\",\",\n",
    "                            usecols=6,\n",
    "                            dtype=str)\n",
    "  return keras.utils.to_categorical(labels_to_int(labels))"
   ]
  },
  {
   "cell_type": "code",
   "execution_count": 32,
   "metadata": {},
   "outputs": [],
   "source": [
    "### Load the data ###\n",
    "\n",
    "x_train = load_features('train.csv')\n",
    "y_train = load_targets('train.csv')\n",
    "x_test = load_features('test.csv')\n",
    "# y_test = load_targets('test.csv')"
   ]
  },
  {
   "cell_type": "code",
   "execution_count": 33,
   "metadata": {},
   "outputs": [
    {
     "name": "stdout",
     "output_type": "stream",
     "text": [
      "Epoch 1/20\n",
      "371/371 [==============================] - 0s - loss: 1.0918 - acc: 0.3477     \n",
      "Epoch 2/20\n",
      "371/371 [==============================] - 0s - loss: 1.0875 - acc: 0.3477     \n",
      "Epoch 3/20\n",
      "371/371 [==============================] - 0s - loss: 1.0825 - acc: 0.3477     \n",
      "Epoch 4/20\n",
      "371/371 [==============================] - 0s - loss: 1.0760 - acc: 0.3477     \n",
      "Epoch 5/20\n",
      "371/371 [==============================] - 0s - loss: 1.0694 - acc: 0.3531     \n",
      "Epoch 6/20\n",
      "371/371 [==============================] - 0s - loss: 1.0633 - acc: 0.3612     \n",
      "Epoch 7/20\n",
      "371/371 [==============================] - 0s - loss: 1.0566 - acc: 0.3693     \n",
      "Epoch 8/20\n",
      "371/371 [==============================] - 0s - loss: 1.0512 - acc: 0.4178     \n",
      "Epoch 9/20\n",
      "371/371 [==============================] - 0s - loss: 1.0461 - acc: 0.4636     \n",
      "Epoch 10/20\n",
      "371/371 [==============================] - 0s - loss: 1.0416 - acc: 0.4852     \n",
      "Epoch 11/20\n",
      "371/371 [==============================] - 0s - loss: 1.0379 - acc: 0.5067     \n",
      "Epoch 12/20\n",
      "371/371 [==============================] - 0s - loss: 1.0348 - acc: 0.5256     \n",
      "Epoch 13/20\n",
      "371/371 [==============================] - 0s - loss: 1.0313 - acc: 0.5553     \n",
      "Epoch 14/20\n",
      "371/371 [==============================] - 0s - loss: 1.0279 - acc: 0.5660     \n",
      "Epoch 15/20\n",
      "371/371 [==============================] - 0s - loss: 1.0247 - acc: 0.5714     \n",
      "Epoch 16/20\n",
      "371/371 [==============================] - 0s - loss: 1.0210 - acc: 0.5741     \n",
      "Epoch 17/20\n",
      "371/371 [==============================] - 0s - loss: 1.0175 - acc: 0.5768     \n",
      "Epoch 18/20\n",
      "371/371 [==============================] - 0s - loss: 1.0140 - acc: 0.5768     \n",
      "Epoch 19/20\n",
      "371/371 [==============================] - 0s - loss: 1.0107 - acc: 0.5714     \n",
      "Epoch 20/20\n",
      "371/371 [==============================] - 0s - loss: 1.0069 - acc: 0.5768     \n"
     ]
    },
    {
     "data": {
      "text/plain": [
       "<keras.callbacks.History at 0x1188c9e80>"
      ]
     },
     "execution_count": 33,
     "metadata": {},
     "output_type": "execute_result"
    }
   ],
   "source": [
    "### Build the models ###\n",
    "\n",
    "FEATURES = ['bone_length', 'rotting_flesh', 'hair_length', 'has_soul']\n",
    "INPUT_DIM = len(FEATURES)\n",
    "TARGET_VARIABLE = ['type']\n",
    "VALID_TYPES = ['Ghost', 'Goblin', 'Ghoul']\n",
    "OUTPUT_DIM = len(VALID_TYPES)\n",
    "\n",
    "model = Sequential()\n",
    "\n",
    "# Basic model inspired from:\n",
    "# https://keras.io/getting-started/sequential-model-guide/\n",
    "# section: \"Multilayer Perceptron (MLP) for multi-class softmax classification\"\n",
    "#\n",
    "# Play around with:\n",
    "# * dropout\n",
    "# * learning algorithm and its parameters\n",
    "# * activation\n",
    "# * learning rate\n",
    "model.add(Dense(10, activation='relu', input_dim=INPUT_DIM))\n",
    "model.add(Dense(OUTPUT_DIM, activation='softmax'))\n",
    "\n",
    "sgd = SGD(lr=0.01, decay=1e-6, momentum=0.9, nesterov=True)\n",
    "model.compile(loss='categorical_crossentropy',\n",
    "              optimizer=sgd,\n",
    "              metrics=['accuracy'])\n",
    "\n",
    "model.fit(x_train, y_train,\n",
    "          epochs=20,\n",
    "          batch_size=128)\n",
    "#score = model.evaluate(x_test, y_test, batch_size=128)\n",
    "#print \"Score is \" + score"
   ]
  },
  {
   "cell_type": "code",
   "execution_count": null,
   "metadata": {
    "collapsed": true
   },
   "outputs": [],
   "source": []
  }
 ],
 "metadata": {
  "kernelspec": {
   "display_name": "Python 3",
   "language": "python",
   "name": "python3"
  },
  "language_info": {
   "codemirror_mode": {
    "name": "ipython",
    "version": 3
   },
   "file_extension": ".py",
   "mimetype": "text/x-python",
   "name": "python",
   "nbconvert_exporter": "python",
   "pygments_lexer": "ipython3",
   "version": "3.5.2"
  }
 },
 "nbformat": 4,
 "nbformat_minor": 2
}
