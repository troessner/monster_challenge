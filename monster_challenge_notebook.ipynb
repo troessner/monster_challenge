{
 "cells": [
  {
   "cell_type": "code",
   "execution_count": 7,
   "metadata": {
    "collapsed": true
   },
   "outputs": [],
   "source": [
    "!pip install keras numpy sklearn > /dev/null 2>&1"
   ]
  },
  {
   "cell_type": "code",
   "execution_count": 1,
   "metadata": {},
   "outputs": [
    {
     "name": "stderr",
     "output_type": "stream",
     "text": [
      "Using TensorFlow backend.\n"
     ]
    },
    {
     "name": "stdout",
     "output_type": "stream",
     "text": [
      "Epoch 1/20\n",
      "371/371 [==============================] - 0s - loss: 1.0834 - acc: 0.3369     \n",
      "Epoch 2/20\n",
      "371/371 [==============================] - 0s - loss: 1.0813 - acc: 0.3369     \n",
      "Epoch 3/20\n",
      "371/371 [==============================] - 0s - loss: 1.0793 - acc: 0.3342     \n",
      "Epoch 4/20\n",
      "371/371 [==============================] - 0s - loss: 1.0758 - acc: 0.2965     \n",
      "Epoch 5/20\n",
      "371/371 [==============================] - 0s - loss: 1.0722 - acc: 0.2884     \n",
      "Epoch 6/20\n",
      "371/371 [==============================] - 0s - loss: 1.0688 - acc: 0.3261     \n",
      "Epoch 7/20\n",
      "371/371 [==============================] - 0s - loss: 1.0656 - acc: 0.3288     \n",
      "Epoch 8/20\n",
      "371/371 [==============================] - 0s - loss: 1.0623 - acc: 0.3450     \n",
      "Epoch 9/20\n",
      "371/371 [==============================] - 0s - loss: 1.0585 - acc: 0.3801     \n",
      "Epoch 10/20\n",
      "371/371 [==============================] - 0s - loss: 1.0548 - acc: 0.4340     \n",
      "Epoch 11/20\n",
      "371/371 [==============================] - 0s - loss: 1.0511 - acc: 0.4528     \n",
      "Epoch 12/20\n",
      "371/371 [==============================] - 0s - loss: 1.0471 - acc: 0.4825     \n",
      "Epoch 13/20\n",
      "371/371 [==============================] - 0s - loss: 1.0424 - acc: 0.5040     \n",
      "Epoch 14/20\n",
      "371/371 [==============================] - 0s - loss: 1.0380 - acc: 0.5310     \n",
      "Epoch 15/20\n",
      "371/371 [==============================] - 0s - loss: 1.0337 - acc: 0.5418     \n",
      "Epoch 16/20\n",
      "371/371 [==============================] - 0s - loss: 1.0294 - acc: 0.5472     \n",
      "Epoch 17/20\n",
      "371/371 [==============================] - 0s - loss: 1.0253 - acc: 0.5580     \n",
      "Epoch 18/20\n",
      "371/371 [==============================] - 0s - loss: 1.0211 - acc: 0.5687     \n",
      "Epoch 19/20\n",
      "371/371 [==============================] - 0s - loss: 1.0165 - acc: 0.5795     \n",
      "Epoch 20/20\n",
      "371/371 [==============================] - ETA: 0s - loss: 1.0104 - acc: 0.570 - 0s - loss: 1.0120 - acc: 0.5768     \n"
     ]
    },
    {
     "data": {
      "text/plain": [
       "<keras.callbacks.History at 0x1183feb00>"
      ]
     },
     "execution_count": 1,
     "metadata": {},
     "output_type": "execute_result"
    }
   ],
   "source": [
    "import keras\n",
    "from keras.models import Sequential\n",
    "from keras.layers import Dense, Dropout, Activation\n",
    "from keras.optimizers import SGD\n",
    "import numpy as np\n",
    "from sklearn.preprocessing import LabelEncoder\n",
    "\n",
    "# TODO: Add 'color' as feature\n",
    "FEATURES = ['bone_length', 'rotting_flesh', 'hair_length', 'has_soul']\n",
    "INPUT_DIM = len(FEATURES)\n",
    "TARGET_VARIABLE = ['type']\n",
    "VALID_TYPES = ['Ghost', 'Goblin', 'Ghoul']\n",
    "OUTPUT_DIM = len(VALID_TYPES)\n",
    "\n",
    "# The csv files look like this:\n",
    "#\n",
    "# id  bone_length  rotting_flesh  hair_length  has_soul  color    type\n",
    "# 0     0.354512       0.350839     0.465761  0.781142  clear   Ghoul\n",
    "# 1     0.575560       0.425868     0.531401  0.439899  green  Goblin\n",
    "# 2     0.467875       0.354330     0.811616  0.791225  black   Ghoul\n",
    "\n",
    "x_train = np.genfromtxt('data/train.csv', skip_header=1, delimiter=\",\", usecols=(1,2,3,4))\n",
    "training_labels = np.genfromtxt('data/train.csv', skip_header=1, delimiter=\",\", usecols=6,  dtype=str)\n",
    "encoder = LabelEncoder()\n",
    "encoder.fit(training_labels)\n",
    "labels_as_numbers = encoder.transform(training_labels)\n",
    "y_train = keras.utils.to_categorical(labels_as_numbers)\n",
    "x_test = np.genfromtxt('data/test.csv', skip_header=1, delimiter=\",\", usecols=(1,2,3,4))\n",
    "# y_test = np.genfromtxt('data/test.csv', skip_header=1, delimiter=\",\", usecols=6)\n",
    "\n",
    "model = Sequential()\n",
    "\n",
    "# Basic model inspired from:\n",
    "# https://keras.io/getting-started/sequential-model-guide/\n",
    "# section: \"Multilayer Perceptron (MLP) for multi-class softmax classification\"\n",
    "#\n",
    "# Play around with:\n",
    "# * dropout\n",
    "# * learning algorithm and its parameters\n",
    "# * activation\n",
    "# * learning rate\n",
    "model.add(Dense(10, activation='relu', input_dim=INPUT_DIM))\n",
    "model.add(Dense(OUTPUT_DIM, activation='softmax'))\n",
    "\n",
    "sgd = SGD(lr=0.01, decay=1e-6, momentum=0.9, nesterov=True)\n",
    "model.compile(loss='categorical_crossentropy',\n",
    "              optimizer=sgd,\n",
    "              metrics=['accuracy'])\n",
    "\n",
    "model.fit(x_train, y_train,\n",
    "          epochs=20,\n",
    "          batch_size=128)\n",
    "#score = model.evaluate(x_test, y_test, batch_size=128)"
   ]
  },
  {
   "cell_type": "code",
   "execution_count": null,
   "metadata": {
    "collapsed": true
   },
   "outputs": [],
   "source": []
  }
 ],
 "metadata": {
  "kernelspec": {
   "display_name": "Python 3",
   "language": "python",
   "name": "python3"
  },
  "language_info": {
   "codemirror_mode": {
    "name": "ipython",
    "version": 3
   },
   "file_extension": ".py",
   "mimetype": "text/x-python",
   "name": "python",
   "nbconvert_exporter": "python",
   "pygments_lexer": "ipython3",
   "version": "3.5.2"
  }
 },
 "nbformat": 4,
 "nbformat_minor": 2
}
