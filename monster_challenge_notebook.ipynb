{
 "cells": [
  {
   "cell_type": "markdown",
   "metadata": {
    "collapsed": true
   },
   "source": [
    "### Install dependencies\n",
    "\n",
    "We'll be using:\n",
    "\n",
    "* keras for building the ANN\n",
    "* numpy for array handling\n",
    "* sklearn for converting labels to one-hot vectors\n",
    "\n",
    "### Imports\n",
    "\n",
    "Apart from the libraries listed above we'll be using\n",
    "\n",
    "* `typing` for static typing"
   ]
  },
  {
   "cell_type": "code",
   "execution_count": 3,
   "metadata": {},
   "outputs": [
    {
     "name": "stderr",
     "output_type": "stream",
     "text": [
      "Using TensorFlow backend.\n"
     ]
    }
   ],
   "source": [
    "!pip install keras numpy sklearn > /dev/null 2>&1\n",
    "\n",
    "import keras.utils\n",
    "from keras.models import Sequential\n",
    "from keras.layers import Dense, Dropout, Activation\n",
    "from keras.optimizers import SGD\n",
    "import numpy\n",
    "from sklearn.preprocessing import LabelEncoder\n",
    "from typing import List"
   ]
  },
  {
   "cell_type": "markdown",
   "metadata": {},
   "source": [
    "### Loading the data\n",
    "\n",
    "TODO"
   ]
  },
  {
   "cell_type": "markdown",
   "metadata": {},
   "source": [
    ""
   ]
  },
  {
   "cell_type": "code",
   "execution_count": 5,
   "metadata": {
    "collapsed": true
   },
   "outputs": [],
   "source": [
    "class Loader:\n",
    "  DATA_PATH = 'data/'\n",
    "\n",
    "  def labels_to_numbers(labels: List[str]) -> List[int]:\n",
    "    \"\"\"\n",
    "    Transforms:\n",
    "      ['Ghoul', 'Goblin', 'Ghoul', 'Ghoul', 'Ghost',\n",
    "    to:\n",
    "      [1, 2, 1, 1, 0,\n",
    "    \"\"\"\n",
    "    return LabelEncoder().fit(labels).transform(labels)\n",
    "    \n",
    "  def load_features(file_name: str) -> List:\n",
    "    \"\"\"\n",
    "    Loads the features we are using for inferring the target.\n",
    "    Those features are: bone_length  rotting_flesh  hair_length  has_soul color\n",
    "\n",
    "    The csv files look like this:\n",
    "\n",
    "    id  bone_length  rotting_flesh  hair_length  has_soul  color    type\n",
    "    0     0.354512       0.350839     0.465761  0.781142  clear   Ghoul\n",
    "    1     0.575560       0.425868     0.531401  0.439899  green  Goblin\n",
    "    2     0.467875       0.354330     0.811616  0.791225  black   Ghoul\n",
    "    \"\"\"\n",
    "    path = Loader.DATA_PATH + file_name\n",
    "    numeric_features = numpy.genfromtxt(path,\n",
    "                                        skip_header=1,\n",
    "                                        delimiter=\",\",\n",
    "                                        usecols=(1, 2, 3, 4))\n",
    "    colors = numpy.genfromtxt(path,\n",
    "                              skip_header=1,\n",
    "                              delimiter=\",\",\n",
    "                              usecols=5,\n",
    "                              dtype=str)\n",
    "    accumulator = []\n",
    "    for row, color_as_number in zip(numeric_features, Loader.labels_to_numbers(colors)):\n",
    "      accumulator.extend([numpy.append(row, color_as_number)])\n",
    "    return numpy.asarray(accumulator)\n",
    "  \n",
    "  def load_targets(file_name: str) -> List:\n",
    "    \"\"\"\n",
    "    Loads the labels we are using for inferring the target ('Ghost', 'Goblin', 'Ghoul')\n",
    "    and transforms them into a one-hot vector.\n",
    "    So basically this:\n",
    "      ['Ghoul', 'Goblin', 'Ghoul', 'Ghoul', 'Ghost', .....\n",
    "    becomes:\n",
    "      [[ 0.,  1.,  0.],\n",
    "       [ 0.,  0.,  1.],\n",
    "       [ 0.,  1.,  0.],\n",
    "    \"\"\"\n",
    "    labels = numpy.genfromtxt(Loader.DATA_PATH + file_name,\n",
    "                              skip_header=1,\n",
    "                              delimiter=\",\",\n",
    "                              usecols=6,\n",
    "                              dtype=str)\n",
    "    return keras.utils.to_categorical(Loader.labels_to_numbers(labels))"
   ]
  },
  {
   "cell_type": "markdown",
   "metadata": {},
   "source": [
    "### Creating the training and the test sets\n",
    "\n",
    "We have 371 records for training but no test data.\n",
    "So let's just use the first 350 records for training and the last 21 for testing"
   ]
  },
  {
   "cell_type": "code",
   "execution_count": 6,
   "metadata": {
    "collapsed": true
   },
   "outputs": [],
   "source": [
    "SLICE_AT = 350\n",
    "\n",
    "features = Loader.load_features('train.csv')\n",
    "targets = Loader.load_targets('train.csv')\n",
    "x_train = features[0:SLICE_AT]\n",
    "y_train = targets[0:SLICE_AT]\n",
    "x_test = features[SLICE_AT:]\n",
    "y_test = targets[SLICE_AT:]\n",
    "x_for_prediction = Loader.load_features('test.csv')"
   ]
  },
  {
   "cell_type": "markdown",
   "metadata": {},
   "source": [
    "### Configurations for the ANN\n",
    "\n",
    "Let's generate all possible combinations we want to try out.\n",
    "We'll take the following 3 hyper parameters into account:\n",
    "\n",
    "* number of hidden layers\n",
    "* what optimizers to use\n",
    "* the [dropout](https://en.wikipedia.org/wiki/Dropout_(neural_networks))"
   ]
  },
  {
   "cell_type": "code",
   "execution_count": 15,
   "metadata": {},
   "outputs": [
    {
     "name": "stdout",
     "output_type": "stream",
     "text": [
      "[{'dropout': 0.0, 'optimizer': 'sgd', 'layers': 0}, {'dropout': 0.0, 'optimizer': 'sgd', 'layers': 1}, {'dropout': 0.0, 'optimizer': 'sgd', 'layers': 2}, {'dropout': 0.10000000000000001, 'optimizer': 'sgd', 'layers': 0}, {'dropout': 0.10000000000000001, 'optimizer': 'sgd', 'layers': 1}, {'dropout': 0.10000000000000001, 'optimizer': 'sgd', 'layers': 2}, {'dropout': 0.20000000000000001, 'optimizer': 'sgd', 'layers': 0}, {'dropout': 0.20000000000000001, 'optimizer': 'sgd', 'layers': 1}, {'dropout': 0.20000000000000001, 'optimizer': 'sgd', 'layers': 2}]\n"
     ]
    }
   ],
   "source": [
    "# TODO mypy annotations missing\n",
    "# TODO Why does the rounding below not work?\n",
    "def all_configurations(optimizers: List = ['sgd'], max_layers: int = 3, max_dropout: float = 0.3):\n",
    "    configurations = []\n",
    "    for optimizer in optimizers:\n",
    "        for dropout in numpy.arange(0, max_dropout, 0.1):\n",
    "            for layers in range(max_layers):\n",
    "                configurations.append({'optimizer' : optimizer,\n",
    "                                       'dropout': round(dropout, 1),\n",
    "                                       'layers' : layers})\n",
    "    return configurations\n",
    "\n",
    "print(all_configurations())"
   ]
  },
  {
   "cell_type": "markdown",
   "metadata": {},
   "source": [
    "### Building the models\n",
    "\n",
    "* The dimension of features is the input dimension for the input neurons\n",
    "* The dimension of the output is the number of output neurons\n",
    "\n",
    "A lot of inspiration for the set up below is coming from keras's [sequential model guide](https://keras.io/getting-started/sequential-model-guide/) (see the section: \"Multilayer Perceptron (MLP) for multi-class softmax classification\")"
   ]
  },
  {
   "cell_type": "code",
   "execution_count": 20,
   "metadata": {},
   "outputs": [
    {
     "name": "stdout",
     "output_type": "stream",
     "text": [
      "Generating, training and evaluating all possible model configurations...\n"
     ]
    }
   ],
   "source": [
    "FEATURES = ['bone_length', 'rotting_flesh', 'hair_length', 'has_soul', 'color']\n",
    "INPUT_DIM = len(FEATURES)\n",
    "VALID_TYPES = ['Ghost', 'Goblin', 'Ghoul']\n",
    "OUTPUT_DIM = len(VALID_TYPES)\n",
    "MAX_LAYERS = 5\n",
    "MAX_DROPOUT = 0.5\n",
    "NEURONS_PER_LAYER = 10\n",
    "\n",
    "sgd = SGD(lr=0.01, decay=1e-6, momentum=0.9, nesterov=True)\n",
    "OPTIMIZERS = [sgd, 'rmsprop', 'adagrad']\n",
    "\n",
    "scores = []\n",
    "\n",
    "import itertools\n",
    "\n",
    "print(\"Generating, training and evaluating all possible model configurations...\")\n",
    "\n",
    "for configuration in all_configurations(optimizers = OPTIMIZERS, max_dropout = MAX_DROPOUT, max_layers = MAX_LAYERS):\n",
    "  model = Sequential()\n",
    "  model.add(Dense(NEURONS_PER_LAYER, activation='relu', input_dim=INPUT_DIM))\n",
    "\n",
    "  for _ in itertools.repeat(None, configuration['layers']):\n",
    "    model.add(Dropout(configuration['dropout']))\n",
    "    model.add(Dense(NEURONS_PER_LAYER, activation='relu'))\n",
    "\n",
    "  model.add(Dense(OUTPUT_DIM, activation='softmax'))\n",
    "\n",
    "  model.compile(loss = 'categorical_crossentropy',\n",
    "                optimizer = configuration['optimizer'],\n",
    "                metrics = ['accuracy'])\n",
    "\n",
    "  model.fit(x_train, y_train, verbose=0, epochs=20, batch_size=128)\n",
    "  score = model.evaluate(x_test, y_test, verbose=0, batch_size=128)\n",
    "  scores.append({'score' : score, 'configuration' : configuration})\n",
    "  \n",
    "print(\"Model evaluation finished!\")"
   ]
  },
  {
   "cell_type": "code",
   "execution_count": 19,
   "metadata": {},
   "outputs": [
    {
     "data": {
      "image/png": "[encoded data removed]",
      "text/plain": [
       "<matplotlib.figure.Figure at 0x126e24ba8>"
      ]
     },
     "metadata": {},
     "output_type": "display_data"
    }
   ],
   "source": [
    "import seaborn as sns\n",
    "import matplotlib.pyplot as plt\n",
    "\n",
    "sns.set_style(\"darkgrid\")\n",
    "\n",
    "scores_by_accuracy = sorted(scores, key=lambda k: k['score'][1])\n",
    "\n",
    "descriptions = []\n",
    "accuracies = []\n",
    "\n",
    "for element in scores_by_accuracy:\n",
    "  configuration = element['configuration']\n",
    "  description = \"O: {}, L: {}, D: {}\".format(configuration['optimizer'], configuration['layers'], configuration['dropout'])\n",
    "  descriptions.append(description)\n",
    "  accuracies.append(element['score'][1])\n",
    "\n",
    "bar_plot = sns.barplot(x=descriptions,y=accuracies,\n",
    "                        palette=\"muted\")\n",
    "plt.xticks(rotation=90)\n",
    "plt.show()"
   ]
  },
  {
   "cell_type": "code",
   "execution_count": null,
   "metadata": {},
   "outputs": [],
   "source": [
    ""
   ]
  }
 ],
 "metadata": {
  "kernelspec": {
   "display_name": "Python 3",
   "language": "python",
   "name": "python3"
  },
  "language_info": {
   "codemirror_mode": {
    "name": "ipython",
    "version": 3.0
   },
   "file_extension": ".py",
   "mimetype": "text/x-python",
   "name": "python",
   "nbconvert_exporter": "python",
   "pygments_lexer": "ipython3",
   "version": "3.5.2"
  }
 },
 "nbformat": 4,
 "nbformat_minor": 0
}